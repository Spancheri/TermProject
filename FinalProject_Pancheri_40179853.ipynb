{
 "cells": [
  {
   "cell_type": "markdown",
   "id": "2bac923c-ec79-48ba-bcb3-5ce7a9524dd2",
   "metadata": {},
   "source": [
    "<img src=\"BirdabilityLogo.jpg\" alt=\"drawing\" width=\"500\"/>"
   ]
  },
  {
   "cell_type": "markdown",
   "id": "457f7c27-d374-4d29-88ce-1dbb7342ad61",
   "metadata": {
    "tags": []
   },
   "source": [
    "# <b>Making Birding Accessible to All</b>"
   ]
  },
  {
   "cell_type": "markdown",
   "id": "d6adbf2e-792c-4527-98e2-a33cad03881c",
   "metadata": {},
   "source": [
    "#### *Presented by Sara Pancheri*"
   ]
  },
  {
   "cell_type": "markdown",
   "id": "0b2c1cca-1762-44fd-884b-e1cfd0de9904",
   "metadata": {},
   "source": [
    "<img src=\"divider.jpg\" alt=\"drawing\" width=\"200\"/>"
   ]
  },
  {
   "cell_type": "markdown",
   "id": "ba3966a4-20eb-448f-8e2f-ce3192c39d96",
   "metadata": {},
   "source": [
    "## <u>Birding: What is it?</u>\n"
   ]
  },
  {
   "cell_type": "markdown",
   "id": "abebffcf-b5a0-4def-81ea-9c2b85fc7700",
   "metadata": {},
   "source": [
    "Bird watching\n",
    ": also known in its more inclusive form as 'birding', is the act of observing birds (animals of the class <i>Aves</i>). This activity is usually done using binoculars or telescopes but can also be done with the naked eye or just by listening to bird songs/calls and identifying the various species. It is possible to record the findings or simply identify and move on. The data collected could be used as a means for research, recreational purposes, or citizen science endeavors. \n",
    "\n",
    "Birding has multitude of benefits in society. For one, bird-watching tours (or ‘avitourism’) has become increasingly popular in the last 40 years – with approximately three million international trips being centered on bird watching annually. Studies showed that avitourism and birding-based activities can help conflict-affected countries as well: Colombia, for example, has the highest number of bird species in the world and is consistently the most popular location for birders around the world. It has been shown that developing better infrastructure and tourism around birding would hold off the government from putting so much emphasis on natural resource extraction and create a cleaner, conservation-based alternative to economic growth (Ocampo-Peñuela, et al., 2017).\n",
    "\n",
    "Though the money spent and invested in birding activities is usually put back into conservation of the bird species, data is also golden for research. Indeed, whether it is simple citizen science or research-level observations, every bit of data is important to know where to focus conservation efforts. For example, a 2012 study revealed that bird migration and distribution patterns had changed in China from 2003 to 2007. This signaled to conservationists a few things: protected land limits had to be changed, climate change had a quicker and bigger impact on bird species than previously thought, and that citizen science data was crucial to following bird trends (Li, et al., 2012).\n",
    "Sites such as [eBird](https://ebird.org/home) and [iNaturalist](https://www.inaturalist.org/) are accessible to all and have community fact-checkers that monitor entries to make sure they make sense with the location and time of year the bird was observed. \n",
    "\n",
    "Finally, bird feeding and observing has been shown to be a good gateway to reconnecting with nature (Cox, et al., 2016). It is a simple enough activity for beginners, as it could be done from people's own backyards or sidewalks. As part of a survey showing the benefits of 'green activities', of which birding is one, participants noticed that they were less stressed, more sociable and connected with their communnity, and felt fitter/healthier when engaging in these activities (Peacock, et al., 2007)."
   ]
  },
  {
   "cell_type": "markdown",
   "id": "db8c688f-1107-431c-85aa-596c565fe6b8",
   "metadata": {},
   "source": [
    "<img src=\"BirdingStats.jpg\" alt=\"drawing\" width=\"500\"/>"
   ]
  },
  {
   "cell_type": "markdown",
   "id": "8a484c72-816b-4f37-994a-6b637eb7fac4",
   "metadata": {},
   "source": [
    "*Figure 1: Visual representation of statistics on the avitourim industry around the world.\n",
    "[Source](https://www.responsibletravel.org/wp-content/uploads/sites/213/2021/03/market-analysis-bird-based-tourism.pdf)*"
   ]
  },
  {
   "cell_type": "markdown",
   "id": "b8ca988e-6741-41e5-931e-c1d9cdd5d8a6",
   "metadata": {},
   "source": [
    "<b>What of people who simply do not have easy access to birding? People with limited mobility, visual or hearing impairments? How does disability enter in the birding world?</b>"
   ]
  },
  {
   "cell_type": "markdown",
   "id": "62cafa63-2af6-4180-aead-1629981d2301",
   "metadata": {},
   "source": [
    "## <u>Birdability: Because Birding if for Everybody!</u>"
   ]
  },
  {
   "cell_type": "markdown",
   "id": "32cae5c6-35a0-4e59-a74c-6abaae539855",
   "metadata": {},
   "source": [
    "The Birdability organization primarily works through education and outreach to ensure that the birding community and the outdoors are <mark>inclusive, accessible, and safe for everyone</mark>. They focus on making birding accessible to people with disabilities, who are sometimes unable to do this activity due to lack of available resources. \n",
    "\n",
    "As previously stated, birding has more than just economic benefits - it helps with mental & physical health as well as conservation efforts worldwide. It is unfair and shameful that a part of the population is unable to have access to it due to lack of infrastructure and resources. "
   ]
  },
  {
   "cell_type": "markdown",
   "id": "e8778e6f-0077-42f3-a765-3f720ea1c75d",
   "metadata": {},
   "source": [
    "According to the organization, a disability is defined by\n",
    "> any physical, cognitive, or mental diagnosis, condition, illness, injury or otherwise that impacts someone’s ability to do a particular activity; in this case, go birding as they would like. May be temporary, intermittent, or permanent. Some disabilities that are advocated for include people with mobility challenges, blindness/low vision, chronic illnesses, intellectual or developmental disabilities, mental illness, deafness/hard of hearing, and those who are neurodivergent.\n"
   ]
  },
  {
   "cell_type": "markdown",
   "id": "6aaa7d58-79ac-4fb4-b081-dcc36e42c6e0",
   "metadata": {},
   "source": [
    "One of the most known and popular features created by Birdability is their [map](https://gis.audubon.org/birdability/). This map is volunteer-based, and shows data related to accessibility of all assessed parks around the world. Due to organization being relatively new, there is still much data lacking for the rest of the world. "
   ]
  },
  {
   "cell_type": "markdown",
   "id": "94951695-49c5-4588-b4dc-d6b55ab4c673",
   "metadata": {},
   "source": [
    "According to [Statistics Canada](https://www150.statcan.gc.ca/t1/tbl1/en/tv.action?pid=1310075001), in 2019 **523 600 or 15.9%** of people living in Montreal are identify as being disabled or having a disability - this number only grows if the definition put in by Birdability is considered. This is a significant number, and shows that it is even more important to assess our own parks/birding spaces to make sure they are suitable for everyone. "
   ]
  },
  {
   "cell_type": "markdown",
   "id": "eae15833-46af-44f8-824d-4013aeb2e184",
   "metadata": {},
   "source": [
    "**The goal of this report is to assess which area of Montreal, Quebec has the most amount of bird observations using Python (Pandas, Geopandas, etc.) mapping techniques. Once this is done, the largest park of the area will be assessed using Birdability standards of accessibility to thenafter enter our results in their database.**"
   ]
  },
  {
   "cell_type": "markdown",
   "id": "308c1ee2-b652-48bc-b2a8-e767666ef287",
   "metadata": {},
   "source": [
    "<img src=\"divider.jpg\" alt=\"drawing\" width=\"200\"/>"
   ]
  },
  {
   "cell_type": "markdown",
   "id": "d78350a1-75fd-42f6-8893-e24514e16cd3",
   "metadata": {},
   "source": [
    "## <u>Methodology</u>"
   ]
  },
  {
   "cell_type": "markdown",
   "id": "05a7be8b-0346-4a0e-b1e2-510caf5fe2e3",
   "metadata": {},
   "source": [
    "Montreal bird observation data was extracted using the [iNaturalist](https://www.inaturalist.org/observations?place_id=139965&iconic_taxa=Aves) database. This resulted in a csv file that we will be importing here and visualizing. Data was cleaned up in EXCEL to delete certain unneeded columns and ESRI's ArcMap to be turned into a shapefile."
   ]
  },
  {
   "cell_type": "code",
   "execution_count": 1,
   "id": "9ef7e845-b0f0-451c-a98f-62ad634210bc",
   "metadata": {},
   "outputs": [],
   "source": [
    "#Import all modules needed to complete the analysis\n",
    "\n",
    "import pandas as pd\n",
    "import geopandas as gpd\n",
    "import glob as glob\n",
    "import matplotlib \n",
    "import matplotlib.pyplot as plt\n",
    "import numpy as np"
   ]
  },
  {
   "cell_type": "code",
   "execution_count": 2,
   "id": "ea869d6d-7f13-4e88-b4d0-184b2b7f9632",
   "metadata": {},
   "outputs": [],
   "source": [
    "#Import data of all bird observations from iNaturalist\n",
    "geoms_filenames = glob.glob('*.shp')\n",
    "mtlBirds = gpd.read_file(geoms_filenames[1])"
   ]
  },
  {
   "cell_type": "markdown",
   "id": "e97eb02a-6690-4b4d-9696-2b50cef5cde7",
   "metadata": {},
   "source": [
    "Montreal administration limits were taken from [Données Montréal](https://donnees.montreal.ca/ville-de-montreal/polygones-arrondissements) as a shapefile. "
   ]
  },
  {
   "cell_type": "code",
   "execution_count": 3,
   "id": "dd880413-a383-4b52-89e6-0ddcb29e6ea5",
   "metadata": {},
   "outputs": [],
   "source": [
    "#Import data of all Montreal dessimation areas from Données Montréal\n",
    "geoms_filenames = glob.glob('*.shp')\n",
    "mtlRegions = gpd.read_file(geoms_filenames[0])"
   ]
  },
  {
   "cell_type": "markdown",
   "id": "fa5f7a0b-9476-492a-b26b-fbd3249438b1",
   "metadata": {},
   "source": [
    "Check coordinate systems of both dataframes, make sure they are the same for spatial join. In this case, we took the Montreal Bird data and changed its coordinate system reference to that of the Montreal administration limits."
   ]
  },
  {
   "cell_type": "code",
   "execution_count": 4,
   "id": "c80e99d0-08a8-402c-b0d8-69411d48a3ca",
   "metadata": {},
   "outputs": [],
   "source": [
    "#mtlRegions.crs  -- EPSG:4326\n",
    "#mtlBirds.crs    -- PCS_Lambert_Conformal_Conic\n",
    "\n",
    "mtlBirds= mtlBirds.to_crs('EPSG:4326')"
   ]
  },
  {
   "cell_type": "markdown",
   "id": "24bf1436-cad9-4ed6-9a67-5e345164c2a5",
   "metadata": {},
   "source": [
    "We will be performing a spatial join in order to see how many birds there are per administrative region. "
   ]
  },
  {
   "cell_type": "code",
   "execution_count": 5,
   "id": "68e9d315-37d5-47e5-8753-2ce059e49933",
   "metadata": {},
   "outputs": [
    {
     "data": {
      "text/html": [
       "<div>\n",
       "<style scoped>\n",
       "    .dataframe tbody tr th:only-of-type {\n",
       "        vertical-align: middle;\n",
       "    }\n",
       "\n",
       "    .dataframe tbody tr th {\n",
       "        vertical-align: top;\n",
       "    }\n",
       "\n",
       "    .dataframe thead th {\n",
       "        text-align: right;\n",
       "    }\n",
       "</style>\n",
       "<table border=\"1\" class=\"dataframe\">\n",
       "  <thead>\n",
       "    <tr style=\"text-align: right;\">\n",
       "      <th></th>\n",
       "      <th>id</th>\n",
       "      <th>latitude</th>\n",
       "      <th>longitude</th>\n",
       "      <th>scientific</th>\n",
       "      <th>common_nam</th>\n",
       "      <th>geometry</th>\n",
       "      <th>index_right</th>\n",
       "      <th>MUNID</th>\n",
       "      <th>CODEID</th>\n",
       "      <th>CODEMAMROT</th>\n",
       "      <th>NOM</th>\n",
       "      <th>TYPE</th>\n",
       "      <th>ABREV</th>\n",
       "      <th>NUM</th>\n",
       "      <th>AIRE</th>\n",
       "      <th>PERIM</th>\n",
       "    </tr>\n",
       "  </thead>\n",
       "  <tbody>\n",
       "    <tr>\n",
       "      <th>0</th>\n",
       "      <td>316465</td>\n",
       "      <td>45.560890</td>\n",
       "      <td>-73.560892</td>\n",
       "      <td>Turdus migratorius</td>\n",
       "      <td>American Robin</td>\n",
       "      <td>POINT (-73.56089 45.56089)</td>\n",
       "      <td>23</td>\n",
       "      <td>66023</td>\n",
       "      <td>8</td>\n",
       "      <td>REM24</td>\n",
       "      <td>Rosemont-La Petite-Patrie</td>\n",
       "      <td>Arrondissement</td>\n",
       "      <td>RO</td>\n",
       "      <td>25</td>\n",
       "      <td>1.588653e+07</td>\n",
       "      <td>19394.163</td>\n",
       "    </tr>\n",
       "    <tr>\n",
       "      <th>9</th>\n",
       "      <td>1728728</td>\n",
       "      <td>45.561889</td>\n",
       "      <td>-73.563272</td>\n",
       "      <td>Cardinalis cardinalis</td>\n",
       "      <td>Northern Cardinal</td>\n",
       "      <td>POINT (-73.56327 45.56189)</td>\n",
       "      <td>23</td>\n",
       "      <td>66023</td>\n",
       "      <td>8</td>\n",
       "      <td>REM24</td>\n",
       "      <td>Rosemont-La Petite-Patrie</td>\n",
       "      <td>Arrondissement</td>\n",
       "      <td>RO</td>\n",
       "      <td>25</td>\n",
       "      <td>1.588653e+07</td>\n",
       "      <td>19394.163</td>\n",
       "    </tr>\n",
       "    <tr>\n",
       "      <th>39</th>\n",
       "      <td>3447893</td>\n",
       "      <td>45.564755</td>\n",
       "      <td>-73.554650</td>\n",
       "      <td>Columba livia</td>\n",
       "      <td>Rock Pigeon</td>\n",
       "      <td>POINT (-73.55465 45.56475)</td>\n",
       "      <td>23</td>\n",
       "      <td>66023</td>\n",
       "      <td>8</td>\n",
       "      <td>REM24</td>\n",
       "      <td>Rosemont-La Petite-Patrie</td>\n",
       "      <td>Arrondissement</td>\n",
       "      <td>RO</td>\n",
       "      <td>25</td>\n",
       "      <td>1.588653e+07</td>\n",
       "      <td>19394.163</td>\n",
       "    </tr>\n",
       "    <tr>\n",
       "      <th>42</th>\n",
       "      <td>3612323</td>\n",
       "      <td>45.560349</td>\n",
       "      <td>-73.556722</td>\n",
       "      <td>Turdus migratorius</td>\n",
       "      <td>American Robin</td>\n",
       "      <td>POINT (-73.55672 45.56035)</td>\n",
       "      <td>23</td>\n",
       "      <td>66023</td>\n",
       "      <td>8</td>\n",
       "      <td>REM24</td>\n",
       "      <td>Rosemont-La Petite-Patrie</td>\n",
       "      <td>Arrondissement</td>\n",
       "      <td>RO</td>\n",
       "      <td>25</td>\n",
       "      <td>1.588653e+07</td>\n",
       "      <td>19394.163</td>\n",
       "    </tr>\n",
       "    <tr>\n",
       "      <th>43</th>\n",
       "      <td>3613252</td>\n",
       "      <td>45.559759</td>\n",
       "      <td>-73.563153</td>\n",
       "      <td>Agelaius phoeniceus</td>\n",
       "      <td>Red-winged Blackbird</td>\n",
       "      <td>POINT (-73.56315 45.55976)</td>\n",
       "      <td>23</td>\n",
       "      <td>66023</td>\n",
       "      <td>8</td>\n",
       "      <td>REM24</td>\n",
       "      <td>Rosemont-La Petite-Patrie</td>\n",
       "      <td>Arrondissement</td>\n",
       "      <td>RO</td>\n",
       "      <td>25</td>\n",
       "      <td>1.588653e+07</td>\n",
       "      <td>19394.163</td>\n",
       "    </tr>\n",
       "    <tr>\n",
       "      <th>...</th>\n",
       "      <td>...</td>\n",
       "      <td>...</td>\n",
       "      <td>...</td>\n",
       "      <td>...</td>\n",
       "      <td>...</td>\n",
       "      <td>...</td>\n",
       "      <td>...</td>\n",
       "      <td>...</td>\n",
       "      <td>...</td>\n",
       "      <td>...</td>\n",
       "      <td>...</td>\n",
       "      <td>...</td>\n",
       "      <td>...</td>\n",
       "      <td>...</td>\n",
       "      <td>...</td>\n",
       "      <td>...</td>\n",
       "    </tr>\n",
       "    <tr>\n",
       "      <th>6308</th>\n",
       "      <td>75226979</td>\n",
       "      <td>45.630146</td>\n",
       "      <td>-73.505547</td>\n",
       "      <td>Cardinalis cardinalis</td>\n",
       "      <td>Northern Cardinal</td>\n",
       "      <td>POINT (-73.50555 45.63015)</td>\n",
       "      <td>28</td>\n",
       "      <td>66023</td>\n",
       "      <td>60</td>\n",
       "      <td>66007</td>\n",
       "      <td>Montréal-Est</td>\n",
       "      <td>Ville liée</td>\n",
       "      <td>ME</td>\n",
       "      <td>74</td>\n",
       "      <td>1.397401e+07</td>\n",
       "      <td>16860.148</td>\n",
       "    </tr>\n",
       "    <tr>\n",
       "      <th>6368</th>\n",
       "      <td>75666825</td>\n",
       "      <td>45.630394</td>\n",
       "      <td>-73.505684</td>\n",
       "      <td>Strix varia</td>\n",
       "      <td>Barred Owl</td>\n",
       "      <td>POINT (-73.50568 45.63039)</td>\n",
       "      <td>28</td>\n",
       "      <td>66023</td>\n",
       "      <td>60</td>\n",
       "      <td>66007</td>\n",
       "      <td>Montréal-Est</td>\n",
       "      <td>Ville liée</td>\n",
       "      <td>ME</td>\n",
       "      <td>74</td>\n",
       "      <td>1.397401e+07</td>\n",
       "      <td>16860.148</td>\n",
       "    </tr>\n",
       "    <tr>\n",
       "      <th>6814</th>\n",
       "      <td>78909735</td>\n",
       "      <td>45.631203</td>\n",
       "      <td>-73.494665</td>\n",
       "      <td>Turdus migratorius</td>\n",
       "      <td>American Robin</td>\n",
       "      <td>POINT (-73.49466 45.63120)</td>\n",
       "      <td>28</td>\n",
       "      <td>66023</td>\n",
       "      <td>60</td>\n",
       "      <td>66007</td>\n",
       "      <td>Montréal-Est</td>\n",
       "      <td>Ville liée</td>\n",
       "      <td>ME</td>\n",
       "      <td>74</td>\n",
       "      <td>1.397401e+07</td>\n",
       "      <td>16860.148</td>\n",
       "    </tr>\n",
       "    <tr>\n",
       "      <th>7356</th>\n",
       "      <td>84464085</td>\n",
       "      <td>45.629385</td>\n",
       "      <td>-73.495028</td>\n",
       "      <td>Dryobates villosus</td>\n",
       "      <td>Hairy Woodpecker</td>\n",
       "      <td>POINT (-73.49503 45.62938)</td>\n",
       "      <td>28</td>\n",
       "      <td>66023</td>\n",
       "      <td>60</td>\n",
       "      <td>66007</td>\n",
       "      <td>Montréal-Est</td>\n",
       "      <td>Ville liée</td>\n",
       "      <td>ME</td>\n",
       "      <td>74</td>\n",
       "      <td>1.397401e+07</td>\n",
       "      <td>16860.148</td>\n",
       "    </tr>\n",
       "    <tr>\n",
       "      <th>10702</th>\n",
       "      <td>107978923</td>\n",
       "      <td>45.633194</td>\n",
       "      <td>-73.494370</td>\n",
       "      <td>Turdus migratorius</td>\n",
       "      <td>American Robin</td>\n",
       "      <td>POINT (-73.49437 45.63319)</td>\n",
       "      <td>28</td>\n",
       "      <td>66023</td>\n",
       "      <td>60</td>\n",
       "      <td>66007</td>\n",
       "      <td>Montréal-Est</td>\n",
       "      <td>Ville liée</td>\n",
       "      <td>ME</td>\n",
       "      <td>74</td>\n",
       "      <td>1.397401e+07</td>\n",
       "      <td>16860.148</td>\n",
       "    </tr>\n",
       "  </tbody>\n",
       "</table>\n",
       "<p>11301 rows × 16 columns</p>\n",
       "</div>"
      ],
      "text/plain": [
       "              id   latitude  longitude             scientific  \\\n",
       "0         316465  45.560890 -73.560892     Turdus migratorius   \n",
       "9        1728728  45.561889 -73.563272  Cardinalis cardinalis   \n",
       "39       3447893  45.564755 -73.554650          Columba livia   \n",
       "42       3612323  45.560349 -73.556722     Turdus migratorius   \n",
       "43       3613252  45.559759 -73.563153    Agelaius phoeniceus   \n",
       "...          ...        ...        ...                    ...   \n",
       "6308    75226979  45.630146 -73.505547  Cardinalis cardinalis   \n",
       "6368    75666825  45.630394 -73.505684            Strix varia   \n",
       "6814    78909735  45.631203 -73.494665     Turdus migratorius   \n",
       "7356    84464085  45.629385 -73.495028     Dryobates villosus   \n",
       "10702  107978923  45.633194 -73.494370     Turdus migratorius   \n",
       "\n",
       "                 common_nam                    geometry  index_right  MUNID  \\\n",
       "0            American Robin  POINT (-73.56089 45.56089)           23  66023   \n",
       "9         Northern Cardinal  POINT (-73.56327 45.56189)           23  66023   \n",
       "39              Rock Pigeon  POINT (-73.55465 45.56475)           23  66023   \n",
       "42           American Robin  POINT (-73.55672 45.56035)           23  66023   \n",
       "43     Red-winged Blackbird  POINT (-73.56315 45.55976)           23  66023   \n",
       "...                     ...                         ...          ...    ...   \n",
       "6308      Northern Cardinal  POINT (-73.50555 45.63015)           28  66023   \n",
       "6368             Barred Owl  POINT (-73.50568 45.63039)           28  66023   \n",
       "6814         American Robin  POINT (-73.49466 45.63120)           28  66023   \n",
       "7356       Hairy Woodpecker  POINT (-73.49503 45.62938)           28  66023   \n",
       "10702        American Robin  POINT (-73.49437 45.63319)           28  66023   \n",
       "\n",
       "      CODEID CODEMAMROT                        NOM            TYPE ABREV  NUM  \\\n",
       "0          8      REM24  Rosemont-La Petite-Patrie  Arrondissement    RO   25   \n",
       "9          8      REM24  Rosemont-La Petite-Patrie  Arrondissement    RO   25   \n",
       "39         8      REM24  Rosemont-La Petite-Patrie  Arrondissement    RO   25   \n",
       "42         8      REM24  Rosemont-La Petite-Patrie  Arrondissement    RO   25   \n",
       "43         8      REM24  Rosemont-La Petite-Patrie  Arrondissement    RO   25   \n",
       "...      ...        ...                        ...             ...   ...  ...   \n",
       "6308      60      66007               Montréal-Est      Ville liée    ME   74   \n",
       "6368      60      66007               Montréal-Est      Ville liée    ME   74   \n",
       "6814      60      66007               Montréal-Est      Ville liée    ME   74   \n",
       "7356      60      66007               Montréal-Est      Ville liée    ME   74   \n",
       "10702     60      66007               Montréal-Est      Ville liée    ME   74   \n",
       "\n",
       "               AIRE      PERIM  \n",
       "0      1.588653e+07  19394.163  \n",
       "9      1.588653e+07  19394.163  \n",
       "39     1.588653e+07  19394.163  \n",
       "42     1.588653e+07  19394.163  \n",
       "43     1.588653e+07  19394.163  \n",
       "...             ...        ...  \n",
       "6308   1.397401e+07  16860.148  \n",
       "6368   1.397401e+07  16860.148  \n",
       "6814   1.397401e+07  16860.148  \n",
       "7356   1.397401e+07  16860.148  \n",
       "10702  1.397401e+07  16860.148  \n",
       "\n",
       "[11301 rows x 16 columns]"
      ]
     },
     "execution_count": 5,
     "metadata": {},
     "output_type": "execute_result"
    }
   ],
   "source": [
    "birdRegions_sjoined = mtlBirds.sjoin(mtlRegions, how='inner',predicate = 'intersects')\n",
    "# birdRegions_sjoined = birdRegions_sjoined.drop(['AIRE','PERIM','ERNAME','SACCODE','CMAPUID','CMANAME','CMATYPE'],axis=1)\n",
    "birdRegions_sjoined"
   ]
  },
  {
   "cell_type": "markdown",
   "id": "b19c38e3-2416-46e0-bc9a-92dcf3e54e82",
   "metadata": {},
   "source": [
    "Calculate the number of times each borough is mentioned; This will show how many bird observations per administration limit"
   ]
  },
  {
   "cell_type": "code",
   "execution_count": 6,
   "id": "ae472e54-e4ba-42b7-8212-43e1eb1cbfc6",
   "metadata": {},
   "outputs": [],
   "source": [
    "from collections import Counter\n",
    "\n",
    "#Turn column of Borough Names into List\n",
    "word_list = birdRegions_sjoined['NOM'].to_list()\n",
    "\n",
    "counts = Counter(word_list)"
   ]
  },
  {
   "cell_type": "markdown",
   "id": "787fef56-756d-48ea-880c-a26b4781a55a",
   "metadata": {},
   "source": [
    "<center>Table 1: Borough with accompanied Number of Bird Observations</center>"
   ]
  },
  {
   "cell_type": "markdown",
   "id": "da676d66-7fa8-4bdb-8f3e-f2b2e8f95dec",
   "metadata": {},
   "source": [
    "| Borough                     |      Number of Observations    |\n",
    "|-----------------------------|:------------------------------:|\n",
    "|Outremont                    |         187          |\n",
    "|LaSalle                      |         331          |\n",
    "|Mont-Royal                   |         18           |\n",
    "|Ville-Marie                  |         1461         |\n",
    "|Le Plateau-Mont-Royal        |         302          |\n",
    "|Hampstead                    |         2            |\n",
    "|Le Sud-Ouest                 |         931          |\n",
    "|RDP-Pointe-aux-Trembles      |         311          |\n",
    "|Lachine                      |         386          |\n",
    "|Dorval                       |         151          |\n",
    "|Montréal-Nord                |         43           |\n",
    "|L'Île-Bizard-Sainte-Geneviève|         266          |\n",
    "|Kirkland                     |         44           |\n",
    "|Dollard-des-Ormeaux          |         203          |\n",
    "|Senneville                   |         133          |\n",
    "|Ahuntsic-Cartierville        |         267          |\n",
    "|Côte-Saint-Luc               |         17           |\n",
    "|Saint-Léonard                |         11           |\n",
    "|Montréal-Ouest               |         6            |\n",
    "|Pointe-Claire                |         176          |\n",
    "|L'Île-Dorval                 |         3            |\n",
    "|Mercier-Hochelaga-Maisonneuve|         240          |\n",
    "|Côte-des-Neiges-NDG          |         250          |\n",
    "|Rosemont-La Petite-Patrie    |         858          |\n",
    "|Saint-Laurent                |         1279         |\n",
    "|Beaconsfield                 |         67           |\n",
    "|Villeray-St-Michel-Parc-Ex   |         93           |\n",
    "|Westmount                    |         65           |\n",
    "|Montréal-Est                 |         5            |\n",
    "|Anjou                        |         68           |\n",
    "|Pierrefonds-Roxboro          |         294          |\n",
    "|Sainte-Anne-de-Bellevue      |         1741         |\n",
    "|Verdun                       |         831          |\n",
    "|Baie-d'Urfé                  |         261          |\n"
   ]
  },
  {
   "cell_type": "markdown",
   "id": "84a7aea7-d076-425e-9248-5ba4e61a3146",
   "metadata": {},
   "source": [
    "Add numbered column to original mtlRegions geodataframe. "
   ]
  },
  {
   "cell_type": "code",
   "execution_count": 7,
   "id": "666e1603-f55c-415d-b444-e283aff54bc9",
   "metadata": {},
   "outputs": [
    {
     "data": {
      "text/html": [
       "<div>\n",
       "<style scoped>\n",
       "    .dataframe tbody tr th:only-of-type {\n",
       "        vertical-align: middle;\n",
       "    }\n",
       "\n",
       "    .dataframe tbody tr th {\n",
       "        vertical-align: top;\n",
       "    }\n",
       "\n",
       "    .dataframe thead th {\n",
       "        text-align: right;\n",
       "    }\n",
       "</style>\n",
       "<table border=\"1\" class=\"dataframe\">\n",
       "  <thead>\n",
       "    <tr style=\"text-align: right;\">\n",
       "      <th></th>\n",
       "      <th>MUNID</th>\n",
       "      <th>CODEID</th>\n",
       "      <th>CODEMAMROT</th>\n",
       "      <th>NOM</th>\n",
       "      <th>TYPE</th>\n",
       "      <th>ABREV</th>\n",
       "      <th>NUM</th>\n",
       "      <th>AIRE</th>\n",
       "      <th>PERIM</th>\n",
       "      <th>geometry</th>\n",
       "      <th># Bird Observations</th>\n",
       "    </tr>\n",
       "  </thead>\n",
       "  <tbody>\n",
       "    <tr>\n",
       "      <th>0</th>\n",
       "      <td>66023</td>\n",
       "      <td>11</td>\n",
       "      <td>REM05</td>\n",
       "      <td>Outremont</td>\n",
       "      <td>Arrondissement</td>\n",
       "      <td>OM</td>\n",
       "      <td>5</td>\n",
       "      <td>3.813356e+06</td>\n",
       "      <td>10836.670</td>\n",
       "      <td>POLYGON ((-73.62078 45.52365, -73.62020 45.524...</td>\n",
       "      <td>187</td>\n",
       "    </tr>\n",
       "    <tr>\n",
       "      <th>1</th>\n",
       "      <td>66023</td>\n",
       "      <td>22</td>\n",
       "      <td>REM17</td>\n",
       "      <td>LaSalle</td>\n",
       "      <td>Arrondissement</td>\n",
       "      <td>LS</td>\n",
       "      <td>18</td>\n",
       "      <td>2.519727e+07</td>\n",
       "      <td>25259.849</td>\n",
       "      <td>POLYGON ((-73.66610 45.42180, -73.66601 45.428...</td>\n",
       "      <td>331</td>\n",
       "    </tr>\n",
       "    <tr>\n",
       "      <th>2</th>\n",
       "      <td>66023</td>\n",
       "      <td>62</td>\n",
       "      <td>66072</td>\n",
       "      <td>Mont-Royal</td>\n",
       "      <td>Ville liée</td>\n",
       "      <td>MR</td>\n",
       "      <td>2</td>\n",
       "      <td>7.445560e+06</td>\n",
       "      <td>18314.038</td>\n",
       "      <td>POLYGON ((-73.65075 45.52631, -73.65036 45.526...</td>\n",
       "      <td>18</td>\n",
       "    </tr>\n",
       "    <tr>\n",
       "      <th>3</th>\n",
       "      <td>66023</td>\n",
       "      <td>9</td>\n",
       "      <td>REM19</td>\n",
       "      <td>Ville-Marie</td>\n",
       "      <td>Arrondissement</td>\n",
       "      <td>VM</td>\n",
       "      <td>20</td>\n",
       "      <td>2.150063e+07</td>\n",
       "      <td>26585.959</td>\n",
       "      <td>POLYGON ((-73.53013 45.53476, -73.53019 45.534...</td>\n",
       "      <td>1461</td>\n",
       "    </tr>\n",
       "    <tr>\n",
       "      <th>4</th>\n",
       "      <td>66023</td>\n",
       "      <td>5</td>\n",
       "      <td>REM21</td>\n",
       "      <td>Le Plateau-Mont-Royal</td>\n",
       "      <td>Arrondissement</td>\n",
       "      <td>PM</td>\n",
       "      <td>22</td>\n",
       "      <td>8.151665e+06</td>\n",
       "      <td>13158.328</td>\n",
       "      <td>POLYGON ((-73.55923 45.53990, -73.56017 45.538...</td>\n",
       "      <td>302</td>\n",
       "    </tr>\n",
       "  </tbody>\n",
       "</table>\n",
       "</div>"
      ],
      "text/plain": [
       "   MUNID CODEID CODEMAMROT                    NOM            TYPE ABREV  NUM  \\\n",
       "0  66023     11      REM05              Outremont  Arrondissement    OM    5   \n",
       "1  66023     22      REM17                LaSalle  Arrondissement    LS   18   \n",
       "2  66023     62      66072             Mont-Royal      Ville liée    MR    2   \n",
       "3  66023      9      REM19            Ville-Marie  Arrondissement    VM   20   \n",
       "4  66023      5      REM21  Le Plateau-Mont-Royal  Arrondissement    PM   22   \n",
       "\n",
       "           AIRE      PERIM                                           geometry  \\\n",
       "0  3.813356e+06  10836.670  POLYGON ((-73.62078 45.52365, -73.62020 45.524...   \n",
       "1  2.519727e+07  25259.849  POLYGON ((-73.66610 45.42180, -73.66601 45.428...   \n",
       "2  7.445560e+06  18314.038  POLYGON ((-73.65075 45.52631, -73.65036 45.526...   \n",
       "3  2.150063e+07  26585.959  POLYGON ((-73.53013 45.53476, -73.53019 45.534...   \n",
       "4  8.151665e+06  13158.328  POLYGON ((-73.55923 45.53990, -73.56017 45.538...   \n",
       "\n",
       "   # Bird Observations  \n",
       "0                  187  \n",
       "1                  331  \n",
       "2                   18  \n",
       "3                 1461  \n",
       "4                  302  "
      ]
     },
     "execution_count": 7,
     "metadata": {},
     "output_type": "execute_result"
    }
   ],
   "source": [
    "listValues =[187, 331, 18, 1461,302,2,931,311,386,151,43,266,44,203,133,267,17,11,6,176,3,240,250,858,1279,67,93,65,5,68,294,1741,831,261] \n",
    "\n",
    "mtlRegions['# Bird Observations'] = listValues\n",
    "mtlRegions.head()"
   ]
  },
  {
   "cell_type": "markdown",
   "id": "8b3cf4fb-2d1b-490d-8cfd-afc6f209dae1",
   "metadata": {},
   "source": [
    "Calculate percentage of bird observations per borough compare to total amount of observations in Montreal"
   ]
  },
  {
   "cell_type": "code",
   "execution_count": 8,
   "id": "120e57c5-ccf4-41e6-8412-635d8327a4e8",
   "metadata": {},
   "outputs": [
    {
     "data": {
      "text/html": [
       "<div>\n",
       "<style scoped>\n",
       "    .dataframe tbody tr th:only-of-type {\n",
       "        vertical-align: middle;\n",
       "    }\n",
       "\n",
       "    .dataframe tbody tr th {\n",
       "        vertical-align: top;\n",
       "    }\n",
       "\n",
       "    .dataframe thead th {\n",
       "        text-align: right;\n",
       "    }\n",
       "</style>\n",
       "<table border=\"1\" class=\"dataframe\">\n",
       "  <thead>\n",
       "    <tr style=\"text-align: right;\">\n",
       "      <th></th>\n",
       "      <th>MUNID</th>\n",
       "      <th>CODEID</th>\n",
       "      <th>CODEMAMROT</th>\n",
       "      <th>NOM</th>\n",
       "      <th>TYPE</th>\n",
       "      <th>ABREV</th>\n",
       "      <th>NUM</th>\n",
       "      <th>AIRE</th>\n",
       "      <th>PERIM</th>\n",
       "      <th>geometry</th>\n",
       "      <th># Bird Observations</th>\n",
       "      <th>Bird%</th>\n",
       "    </tr>\n",
       "  </thead>\n",
       "  <tbody>\n",
       "    <tr>\n",
       "      <th>0</th>\n",
       "      <td>66023</td>\n",
       "      <td>11</td>\n",
       "      <td>REM05</td>\n",
       "      <td>Outremont</td>\n",
       "      <td>Arrondissement</td>\n",
       "      <td>OM</td>\n",
       "      <td>5</td>\n",
       "      <td>3.813356e+06</td>\n",
       "      <td>10836.670</td>\n",
       "      <td>POLYGON ((-73.62078 45.52365, -73.62020 45.524...</td>\n",
       "      <td>187</td>\n",
       "      <td>1.654721</td>\n",
       "    </tr>\n",
       "    <tr>\n",
       "      <th>1</th>\n",
       "      <td>66023</td>\n",
       "      <td>22</td>\n",
       "      <td>REM17</td>\n",
       "      <td>LaSalle</td>\n",
       "      <td>Arrondissement</td>\n",
       "      <td>LS</td>\n",
       "      <td>18</td>\n",
       "      <td>2.519727e+07</td>\n",
       "      <td>25259.849</td>\n",
       "      <td>POLYGON ((-73.66610 45.42180, -73.66601 45.428...</td>\n",
       "      <td>331</td>\n",
       "      <td>2.928944</td>\n",
       "    </tr>\n",
       "    <tr>\n",
       "      <th>2</th>\n",
       "      <td>66023</td>\n",
       "      <td>62</td>\n",
       "      <td>66072</td>\n",
       "      <td>Mont-Royal</td>\n",
       "      <td>Ville liée</td>\n",
       "      <td>MR</td>\n",
       "      <td>2</td>\n",
       "      <td>7.445560e+06</td>\n",
       "      <td>18314.038</td>\n",
       "      <td>POLYGON ((-73.65075 45.52631, -73.65036 45.526...</td>\n",
       "      <td>18</td>\n",
       "      <td>0.159278</td>\n",
       "    </tr>\n",
       "    <tr>\n",
       "      <th>3</th>\n",
       "      <td>66023</td>\n",
       "      <td>9</td>\n",
       "      <td>REM19</td>\n",
       "      <td>Ville-Marie</td>\n",
       "      <td>Arrondissement</td>\n",
       "      <td>VM</td>\n",
       "      <td>20</td>\n",
       "      <td>2.150063e+07</td>\n",
       "      <td>26585.959</td>\n",
       "      <td>POLYGON ((-73.53013 45.53476, -73.53019 45.534...</td>\n",
       "      <td>1461</td>\n",
       "      <td>12.928059</td>\n",
       "    </tr>\n",
       "    <tr>\n",
       "      <th>4</th>\n",
       "      <td>66023</td>\n",
       "      <td>5</td>\n",
       "      <td>REM21</td>\n",
       "      <td>Le Plateau-Mont-Royal</td>\n",
       "      <td>Arrondissement</td>\n",
       "      <td>PM</td>\n",
       "      <td>22</td>\n",
       "      <td>8.151665e+06</td>\n",
       "      <td>13158.328</td>\n",
       "      <td>POLYGON ((-73.55923 45.53990, -73.56017 45.538...</td>\n",
       "      <td>302</td>\n",
       "      <td>2.672330</td>\n",
       "    </tr>\n",
       "  </tbody>\n",
       "</table>\n",
       "</div>"
      ],
      "text/plain": [
       "   MUNID CODEID CODEMAMROT                    NOM            TYPE ABREV  NUM  \\\n",
       "0  66023     11      REM05              Outremont  Arrondissement    OM    5   \n",
       "1  66023     22      REM17                LaSalle  Arrondissement    LS   18   \n",
       "2  66023     62      66072             Mont-Royal      Ville liée    MR    2   \n",
       "3  66023      9      REM19            Ville-Marie  Arrondissement    VM   20   \n",
       "4  66023      5      REM21  Le Plateau-Mont-Royal  Arrondissement    PM   22   \n",
       "\n",
       "           AIRE      PERIM                                           geometry  \\\n",
       "0  3.813356e+06  10836.670  POLYGON ((-73.62078 45.52365, -73.62020 45.524...   \n",
       "1  2.519727e+07  25259.849  POLYGON ((-73.66610 45.42180, -73.66601 45.428...   \n",
       "2  7.445560e+06  18314.038  POLYGON ((-73.65075 45.52631, -73.65036 45.526...   \n",
       "3  2.150063e+07  26585.959  POLYGON ((-73.53013 45.53476, -73.53019 45.534...   \n",
       "4  8.151665e+06  13158.328  POLYGON ((-73.55923 45.53990, -73.56017 45.538...   \n",
       "\n",
       "   # Bird Observations      Bird%  \n",
       "0                  187   1.654721  \n",
       "1                  331   2.928944  \n",
       "2                   18   0.159278  \n",
       "3                 1461  12.928059  \n",
       "4                  302   2.672330  "
      ]
     },
     "execution_count": 8,
     "metadata": {},
     "output_type": "execute_result"
    }
   ],
   "source": [
    "totalBirds = mtlRegions['# Bird Observations'].sum() #11301\n",
    "\n",
    "#Percentage\n",
    "mtlRegions['Bird%'] = (mtlRegions['# Bird Observations']/totalBirds)*100\n",
    "mtlRegions.head()"
   ]
  },
  {
   "cell_type": "markdown",
   "id": "a9ae30d9-b49e-4deb-a025-1185660f7799",
   "metadata": {},
   "source": [
    "Plot map to make sure it works and makes sense"
   ]
  },
  {
   "cell_type": "code",
   "execution_count": 9,
   "id": "00050f81-8a74-4e06-a9da-4054d17d3f9c",
   "metadata": {},
   "outputs": [
    {
     "data": {
      "text/plain": [
       "<AxesSubplot:>"
      ]
     },
     "execution_count": 9,
     "metadata": {},
     "output_type": "execute_result"
    },
    {
     "data": {
      "image/png": "[encoded data removed]",
      "text/plain": [
       "<Figure size 1008x720 with 1 Axes>"
      ]
     },
     "metadata": {
      "needs_background": "light"
     },
     "output_type": "display_data"
    }
   ],
   "source": [
    "fig, ax = matplotlib.pyplot.subplots(figsize=(14, 10))\n",
    "mtlRegions.plot(column = 'Bird%', ax = ax)"
   ]
  },
  {
   "cell_type": "markdown",
   "id": "3da511dc-84e4-4d28-8fdc-71bda0882627",
   "metadata": {},
   "source": [
    "HOORAY! It looks good.\n",
    "A separate python file was created with all plotting elements in order to simply call it and make many maps with similar parameters. \n",
    "The first map plotted represents the percentage of bird observations by administrative limit across Montreal."
   ]
  },
  {
   "cell_type": "code",
   "execution_count": 10,
   "id": "44b85882-ab65-45d7-8577-0bce8836103f",
   "metadata": {},
   "outputs": [
    {
     "data": {
      "image/png": "[encoded data removed]",
      "text/plain": [
       "<Figure size 720x720 with 2 Axes>"
      ]
     },
     "metadata": {
      "needs_background": "light"
     },
     "output_type": "display_data"
    }
   ],
   "source": [
    "import mapCall\n",
    "\n",
    "\n",
    "fig = mapCall.map_drawing(mtlRegions\n",
    "            ,'Bird%'\n",
    "            ,\"Percentage of Bird Observations\"\n",
    "            ,\"per Borough in Montreal, QC 2010-2022\"\n",
    "            ,-74.0\n",
    "            ,-73.45\n",
    "            ,45.39\n",
    "            ,45.73\n",
    "            ,\"Data Source:\" + '\\n' + \"Statistics Canada (2016), iNaturalist (2010-22)\"\n",
    "            ,\"by Sara Pancheri \\n (03.05.2022)\"\n",
    "            ,ax)\n"
   ]
  },
  {
   "cell_type": "markdown",
   "id": "eb5b1b2a-96b6-47b3-8b06-433a926eecbb",
   "metadata": {},
   "source": [
    "According to the table, and the map - the region administrative region with the most amount of observations is Sainte-Anne-de-Bellevue, in the Western point of Montreal. "
   ]
  },
  {
   "cell_type": "markdown",
   "id": "283956b1-39c0-4ba7-a626-e77873008b16",
   "metadata": {},
   "source": [
    "A zoom-in to the location will be done show the exact area we are talking about"
   ]
  },
  {
   "cell_type": "code",
   "execution_count": 11,
   "id": "85eb2554-979a-4f1a-9351-21bd095f21f2",
   "metadata": {},
   "outputs": [
    {
     "data": {
      "image/png": "[encoded data removed]",
      "text/plain": [
       "<Figure size 720x720 with 2 Axes>"
      ]
     },
     "metadata": {
      "needs_background": "light"
     },
     "output_type": "display_data"
    }
   ],
   "source": [
    "fig1 = mapCall.map_drawing(mtlRegions\n",
    "            ,'Bird%'\n",
    "            ,\"Bird Observations\"\n",
    "            ,\"in Sainte-Anne-de-Bellevue, QC (2010-22)\"\n",
    "            ,-73.98\n",
    "            ,-73.89\n",
    "            ,45.395\n",
    "            ,45.47\n",
    "            ,\"Data Source:\" + '\\n' + \"Statistics Canada (2016), iNaturalist (2010-22)\"\n",
    "            ,\"by Sara Pancheri \\n (03.05.2022)\"\n",
    "            ,ax)\n"
   ]
  },
  {
   "cell_type": "markdown",
   "id": "4a40f2b1-8b78-4cca-943e-55b628d056fe",
   "metadata": {},
   "source": [
    "Here, the area can be seen in bright pink; These results are in accordance with what we can see on the actual iNaturalist map, and therefore will become the focus of our assessment."
   ]
  },
  {
   "cell_type": "markdown",
   "id": "fdbea8dc-80fd-4c23-b055-50c059e2fe34",
   "metadata": {},
   "source": [
    "![alt text](iNaturalistSainteAnne.jpg)"
   ]
  },
  {
   "cell_type": "markdown",
   "id": "d81f3fba-82a8-44f4-ba80-96afb17da941",
   "metadata": {},
   "source": [
    "<i>Figure 2: Sainte-Anne-de-Bellevue area with all iNaturalist points.</i>\n",
    "[Source](https://www.inaturalist.org/observations?nelat=45.44851894150879&nelng=-73.90090307481364&place_id=any&subview=map&swlat=45.39957283735265&swlng=-73.97233790291602&taxon_id=3)"
   ]
  },
  {
   "cell_type": "markdown",
   "id": "13eb4a30-6945-4eee-9598-8a015219d4ac",
   "metadata": {},
   "source": [
    "As we can see from this map, Sainte-Anne-de-Bellevue is home to the famous Ecomuseum Zoo, the Morgan Arboretum and part of the Senneville Migratory Bird Sanctuary. \n",
    "Due to its popularity, I have chosen to assess the Ecomuseum - since it is more than a park and more popular, it should have better accessibility for birding. "
   ]
  },
  {
   "cell_type": "markdown",
   "id": "795342f0-458b-442e-8b9a-7507afb1b216",
   "metadata": {},
   "source": [
    "## <u>Assessing the Ecomuseum according to Birdability Standards</u>"
   ]
  },
  {
   "cell_type": "markdown",
   "id": "9583bb28-8193-470a-8935-1af98b7fae3f",
   "metadata": {},
   "source": [
    "![alt text](EcomuseumBirds.jpg)"
   ]
  },
  {
   "cell_type": "markdown",
   "id": "da612e0c-80b6-48a4-9cd9-9c5e5209f081",
   "metadata": {},
   "source": [
    "<i>Figure 3: Ecomuseum area with all iNaturalist points.</i>\n",
    "[Source](https://www.inaturalist.org/observations?d1=2010&d2=2022&place_id=any&subview=map&taxon_id=3)"
   ]
  },
  {
   "cell_type": "markdown",
   "id": "dd75f88a-7ca9-4a61-b961-fd2a8da4cb79",
   "metadata": {},
   "source": [
    "Here is the completed Birdability checklist done for the Ecomuseum "
   ]
  },
  {
   "cell_type": "code",
   "execution_count": 12,
   "id": "24d933d4-387b-47d3-b415-da7fd9058449",
   "metadata": {},
   "outputs": [
    {
     "data": {
      "text/html": [
       "\n",
       "        <iframe\n",
       "            width=\"1000\"\n",
       "            height=\"400\"\n",
       "            src=\"BirdabilitySiteReview.pdf\"\n",
       "            frameborder=\"0\"\n",
       "            allowfullscreen\n",
       "            \n",
       "        ></iframe>\n",
       "        "
      ],
      "text/plain": [
       "<IPython.lib.display.IFrame at 0x125f5b460>"
      ]
     },
     "execution_count": 12,
     "metadata": {},
     "output_type": "execute_result"
    }
   ],
   "source": [
    "from IPython.display import IFrame\n",
    "IFrame(\"BirdabilitySiteReview.pdf\", width=1000, height=400)"
   ]
  },
  {
   "cell_type": "markdown",
   "id": "c5b51719-80ba-41df-9e47-3f6fa9c5b2bb",
   "metadata": {},
   "source": [
    "If this is something you'd like to one day do as well, the [checklist](https://static1.squarespace.com/static/5fbd78994a599a774a4156dd/t/60fad64627d9a56e8b04a243/1627051590360/Birdability+Site+Review+Checklist_accessible+PDF_2021.pdf) can be found there."
   ]
  },
  {
   "cell_type": "markdown",
   "id": "2fbd3920-97dc-4558-b514-14935f885ddf",
   "metadata": {},
   "source": [
    "<img src=\"divider.jpg\" alt=\"drawing\" width=\"200\"/>"
   ]
  },
  {
   "cell_type": "markdown",
   "id": "4900e0d0-05b2-4495-9eff-64e3ef0089b7",
   "metadata": {},
   "source": [
    "## <u>Conclusion</u>"
   ]
  },
  {
   "cell_type": "markdown",
   "id": "d5ba2ae9-1fee-4930-80d7-68e4e467fb88",
   "metadata": {},
   "source": [
    "Through the maps connecting bird points to administrative limits of Montreal, it was possible to find the region with the most bird observations. With these results, it was possible to choose a location and assesss it using the Birdability standards of accessibility. It was concluded that the Ecomuseum Zoo, though fairly accessible for people who are hard-of-heard, wheelchair users, and most mentally ill folk - it was deemed, overall, needing of improvement. Some areas (such as the indoor exhibits of reptiles and fish) were completely inaccessible to wheelchair users and those with limited mobility (only accessible by stairs) or needed a ramp installed to be accessed (Duck Sanctuary). Guide/ support dogs are prohibited (no exceptions), which is understandable due to the nature of the organization - but this limits a lot of people with disabilities who require their support animal to go out. \n",
    "\n",
    "There were many limitations to this project. \n",
    "For one, it had been a goal to be able to find a database with point data or census data of disability distribution across Montreal. This would have allowed me to find the proportion of disabled people-to-bird observations in order to see which areas should be prioritized and developed. However, it is impossible to find such data. All data found was either a generalization (as found on Statistics Canada) or only included school children data. This was not enough to properly achieve the goal. Additionally, data from Données Québec and Montréal included poverty rates in the scarce data that could be found, which skewed the results we were looking for. \n",
    "\n",
    "Another limitation was the bird observations. Althought iNaturalist is a very popular app and website, eBird would have been a much better choice. However, it is not possible to extract proper data from eBird at this time. The choice of iNaturalist was taken because it was the best option available: free, more than a handful of datapoints, and download-able. \n",
    "\n",
    "Finally, some of the issues stemmed from the programming portion itself (of course). The biggest issue was getting 'ipyleaflet' to work. This would have been an interactive map, where people can zoom around the areas and make it much more user-friendly. However, it did not work with my versions of jupyter notebooks / python. It would have required that conda be installed, but there were issues with that - in which version were not working and making my jupyter notebook bug. This was very frustrating, because it would have been an interesting addition to the project. \n",
    "\n",
    "<u>Thought on the future</u>\n",
    "I would like to, one day, access data regarding disability across Montreal (something more detailed than simply knowing that 15.9% of Montrealers have a 'disability' according to Federal Government definition). This would allow for better resource management and prioritization for more than just birding in each borough. If municipalities have access to this information but it is not yet public, I think it would be important to publish it. This would allow students, such as myself, to better understand the city we live in and make more projects related to the topic of disability in the city. I would like to thank the Birdability organization, without them I would have never been properly education and sensitized to this topic. "
   ]
  },
  {
   "cell_type": "markdown",
   "id": "60c2b6ff-91c1-4ecf-8294-c1828cddd4c5",
   "metadata": {},
   "source": [
    "<img src=\"divider.jpg\" alt=\"drawing\" width=\"200\"/>"
   ]
  },
  {
   "cell_type": "markdown",
   "id": "0219be30-2d10-470e-a3f1-a4796ad760b6",
   "metadata": {},
   "source": [
    "### <u>Bibliography</u>"
   ]
  },
  {
   "cell_type": "markdown",
   "id": "d930a91b-bfcb-45ec-a1fe-b610c19aaa4e",
   "metadata": {},
   "source": [
    "1. Cox, D. T., & Gaston, K. J. (2016, July 18). Urban Bird Feeding: Connecting People with Nature. PLOS. https://journals.plos.org/plosone/article?id=10.1371/journal.pone.0158717\n",
    "2. Li, X. Y., Liang, L., Gong, P., Liu, Y., & Liang, F. (2012, September 15). Bird watching in China Reveals Bird Distribution Changes. Chinese Science Bulletin. 58. pp 649–656. https://link.springer.com/article/10.1007/s11434-012-5458-7\n",
    "3. Ocampo-Peñuela, N., & Winton, R. S. (2017, October 9). Economic and Conservation Potential of Bird-Watching Tourism in Postconflict Colombia. Sage Journals. 10. https://journals.sagepub.com/doi/full/10.1177/1940082917733862\n",
    "4. Peacock, J., Hine, R., & Pretty, J. (2007, February). The Mental Health Benefits of Green Exercise Activities and Green Care. Reconnect in Nature. https://reconnectinnature.org.uk/wp-content/uploads/2018/08/essexdata.pdf\n"
   ]
  }
 ],
 "metadata": {
  "kernelspec": {
   "display_name": "Python 3 (ipykernel)",
   "language": "python",
   "name": "python3"
  },
  "language_info": {
   "codemirror_mode": {
    "name": "ipython",
    "version": 3
   },
   "file_extension": ".py",
   "mimetype": "text/x-python",
   "name": "python",
   "nbconvert_exporter": "python",
   "pygments_lexer": "ipython3",
   "version": "3.9.10"
  }
 },
 "nbformat": 4,
 "nbformat_minor": 5
}
